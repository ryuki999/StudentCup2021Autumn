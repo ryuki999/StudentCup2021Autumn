{
  "nbformat": 4,
  "nbformat_minor": 0,
  "metadata": {
    "colab": {
      "name": "student_cup2021autumn.ipynb",
      "provenance": [],
      "collapsed_sections": [],
      "machine_shape": "hm"
    },
    "kernelspec": {
      "display_name": "Python 3",
      "language": "python",
      "name": "python3"
    },
    "language_info": {
      "codemirror_mode": {
        "name": "ipython",
        "version": 3
      },
      "file_extension": ".py",
      "mimetype": "text/x-python",
      "name": "python",
      "nbconvert_exporter": "python",
      "pygments_lexer": "ipython3",
      "version": "3.7.9"
    },
    "widgets": {
      "application/vnd.jupyter.widget-state+json": {
        "ad1f34ef800e40e6ad01cb4a196a154b": {
          "model_module": "@jupyter-widgets/controls",
          "model_name": "HBoxModel",
          "model_module_version": "1.5.0",
          "state": {
            "_view_name": "HBoxView",
            "_dom_classes": [],
            "_model_name": "HBoxModel",
            "_view_module": "@jupyter-widgets/controls",
            "_model_module_version": "1.5.0",
            "_view_count": null,
            "_view_module_version": "1.5.0",
            "box_style": "",
            "layout": "IPY_MODEL_0ec90b20bcc3413e95715f7c07d3b175",
            "_model_module": "@jupyter-widgets/controls",
            "children": [
              "IPY_MODEL_f2439f4ee8d646c4b1592774a7cb5691",
              "IPY_MODEL_5d08cb23fbce43de958e8617b8b1e9ae",
              "IPY_MODEL_88bd05a3006645109939475ec850a3d6"
            ]
          }
        },
        "0ec90b20bcc3413e95715f7c07d3b175": {
          "model_module": "@jupyter-widgets/base",
          "model_name": "LayoutModel",
          "model_module_version": "1.2.0",
          "state": {
            "_view_name": "LayoutView",
            "grid_template_rows": null,
            "right": null,
            "justify_content": null,
            "_view_module": "@jupyter-widgets/base",
            "overflow": null,
            "_model_module_version": "1.2.0",
            "_view_count": null,
            "flex_flow": null,
            "width": null,
            "min_width": null,
            "border": null,
            "align_items": null,
            "bottom": null,
            "_model_module": "@jupyter-widgets/base",
            "top": null,
            "grid_column": null,
            "overflow_y": null,
            "overflow_x": null,
            "grid_auto_flow": null,
            "grid_area": null,
            "grid_template_columns": null,
            "flex": null,
            "_model_name": "LayoutModel",
            "justify_items": null,
            "grid_row": null,
            "max_height": null,
            "align_content": null,
            "visibility": null,
            "align_self": null,
            "height": null,
            "min_height": null,
            "padding": null,
            "grid_auto_rows": null,
            "grid_gap": null,
            "max_width": null,
            "order": null,
            "_view_module_version": "1.2.0",
            "grid_template_areas": null,
            "object_position": null,
            "object_fit": null,
            "grid_auto_columns": null,
            "margin": null,
            "display": null,
            "left": null
          }
        },
        "f2439f4ee8d646c4b1592774a7cb5691": {
          "model_module": "@jupyter-widgets/controls",
          "model_name": "HTMLModel",
          "model_module_version": "1.5.0",
          "state": {
            "_view_name": "HTMLView",
            "style": "IPY_MODEL_2db82431f60d4899ad05c141f29cad82",
            "_dom_classes": [],
            "description": "",
            "_model_name": "HTMLModel",
            "placeholder": "​",
            "_view_module": "@jupyter-widgets/controls",
            "_model_module_version": "1.5.0",
            "value": "100%",
            "_view_count": null,
            "_view_module_version": "1.5.0",
            "description_tooltip": null,
            "_model_module": "@jupyter-widgets/controls",
            "layout": "IPY_MODEL_b8bbad5fd7bf49cf8e7c43fecca5bbb7"
          }
        },
        "5d08cb23fbce43de958e8617b8b1e9ae": {
          "model_module": "@jupyter-widgets/controls",
          "model_name": "FloatProgressModel",
          "model_module_version": "1.5.0",
          "state": {
            "_view_name": "ProgressView",
            "style": "IPY_MODEL_ed9202f31a6f45e39c72ae5b36a99132",
            "_dom_classes": [],
            "description": "",
            "_model_name": "FloatProgressModel",
            "bar_style": "success",
            "max": 1226400,
            "_view_module": "@jupyter-widgets/controls",
            "_model_module_version": "1.5.0",
            "value": 1226400,
            "_view_count": null,
            "_view_module_version": "1.5.0",
            "orientation": "horizontal",
            "min": 0,
            "description_tooltip": null,
            "_model_module": "@jupyter-widgets/controls",
            "layout": "IPY_MODEL_ccead5d212ed4775b805ef23f4d99161"
          }
        },
        "88bd05a3006645109939475ec850a3d6": {
          "model_module": "@jupyter-widgets/controls",
          "model_name": "HTMLModel",
          "model_module_version": "1.5.0",
          "state": {
            "_view_name": "HTMLView",
            "style": "IPY_MODEL_982fffcf4b654192a145b2c0da29e6d4",
            "_dom_classes": [],
            "description": "",
            "_model_name": "HTMLModel",
            "placeholder": "​",
            "_view_module": "@jupyter-widgets/controls",
            "_model_module_version": "1.5.0",
            "value": " 1226400/1226400 [02:03&lt;00:00, 11242.51it/s]",
            "_view_count": null,
            "_view_module_version": "1.5.0",
            "description_tooltip": null,
            "_model_module": "@jupyter-widgets/controls",
            "layout": "IPY_MODEL_395948143a514deebacaf42251dde79e"
          }
        },
        "2db82431f60d4899ad05c141f29cad82": {
          "model_module": "@jupyter-widgets/controls",
          "model_name": "DescriptionStyleModel",
          "model_module_version": "1.5.0",
          "state": {
            "_view_name": "StyleView",
            "_model_name": "DescriptionStyleModel",
            "description_width": "",
            "_view_module": "@jupyter-widgets/base",
            "_model_module_version": "1.5.0",
            "_view_count": null,
            "_view_module_version": "1.2.0",
            "_model_module": "@jupyter-widgets/controls"
          }
        },
        "b8bbad5fd7bf49cf8e7c43fecca5bbb7": {
          "model_module": "@jupyter-widgets/base",
          "model_name": "LayoutModel",
          "model_module_version": "1.2.0",
          "state": {
            "_view_name": "LayoutView",
            "grid_template_rows": null,
            "right": null,
            "justify_content": null,
            "_view_module": "@jupyter-widgets/base",
            "overflow": null,
            "_model_module_version": "1.2.0",
            "_view_count": null,
            "flex_flow": null,
            "width": null,
            "min_width": null,
            "border": null,
            "align_items": null,
            "bottom": null,
            "_model_module": "@jupyter-widgets/base",
            "top": null,
            "grid_column": null,
            "overflow_y": null,
            "overflow_x": null,
            "grid_auto_flow": null,
            "grid_area": null,
            "grid_template_columns": null,
            "flex": null,
            "_model_name": "LayoutModel",
            "justify_items": null,
            "grid_row": null,
            "max_height": null,
            "align_content": null,
            "visibility": null,
            "align_self": null,
            "height": null,
            "min_height": null,
            "padding": null,
            "grid_auto_rows": null,
            "grid_gap": null,
            "max_width": null,
            "order": null,
            "_view_module_version": "1.2.0",
            "grid_template_areas": null,
            "object_position": null,
            "object_fit": null,
            "grid_auto_columns": null,
            "margin": null,
            "display": null,
            "left": null
          }
        },
        "ed9202f31a6f45e39c72ae5b36a99132": {
          "model_module": "@jupyter-widgets/controls",
          "model_name": "ProgressStyleModel",
          "model_module_version": "1.5.0",
          "state": {
            "_view_name": "StyleView",
            "_model_name": "ProgressStyleModel",
            "description_width": "",
            "_view_module": "@jupyter-widgets/base",
            "_model_module_version": "1.5.0",
            "_view_count": null,
            "_view_module_version": "1.2.0",
            "bar_color": null,
            "_model_module": "@jupyter-widgets/controls"
          }
        },
        "ccead5d212ed4775b805ef23f4d99161": {
          "model_module": "@jupyter-widgets/base",
          "model_name": "LayoutModel",
          "model_module_version": "1.2.0",
          "state": {
            "_view_name": "LayoutView",
            "grid_template_rows": null,
            "right": null,
            "justify_content": null,
            "_view_module": "@jupyter-widgets/base",
            "overflow": null,
            "_model_module_version": "1.2.0",
            "_view_count": null,
            "flex_flow": null,
            "width": null,
            "min_width": null,
            "border": null,
            "align_items": null,
            "bottom": null,
            "_model_module": "@jupyter-widgets/base",
            "top": null,
            "grid_column": null,
            "overflow_y": null,
            "overflow_x": null,
            "grid_auto_flow": null,
            "grid_area": null,
            "grid_template_columns": null,
            "flex": null,
            "_model_name": "LayoutModel",
            "justify_items": null,
            "grid_row": null,
            "max_height": null,
            "align_content": null,
            "visibility": null,
            "align_self": null,
            "height": null,
            "min_height": null,
            "padding": null,
            "grid_auto_rows": null,
            "grid_gap": null,
            "max_width": null,
            "order": null,
            "_view_module_version": "1.2.0",
            "grid_template_areas": null,
            "object_position": null,
            "object_fit": null,
            "grid_auto_columns": null,
            "margin": null,
            "display": null,
            "left": null
          }
        },
        "982fffcf4b654192a145b2c0da29e6d4": {
          "model_module": "@jupyter-widgets/controls",
          "model_name": "DescriptionStyleModel",
          "model_module_version": "1.5.0",
          "state": {
            "_view_name": "StyleView",
            "_model_name": "DescriptionStyleModel",
            "description_width": "",
            "_view_module": "@jupyter-widgets/base",
            "_model_module_version": "1.5.0",
            "_view_count": null,
            "_view_module_version": "1.2.0",
            "_model_module": "@jupyter-widgets/controls"
          }
        },
        "395948143a514deebacaf42251dde79e": {
          "model_module": "@jupyter-widgets/base",
          "model_name": "LayoutModel",
          "model_module_version": "1.2.0",
          "state": {
            "_view_name": "LayoutView",
            "grid_template_rows": null,
            "right": null,
            "justify_content": null,
            "_view_module": "@jupyter-widgets/base",
            "overflow": null,
            "_model_module_version": "1.2.0",
            "_view_count": null,
            "flex_flow": null,
            "width": null,
            "min_width": null,
            "border": null,
            "align_items": null,
            "bottom": null,
            "_model_module": "@jupyter-widgets/base",
            "top": null,
            "grid_column": null,
            "overflow_y": null,
            "overflow_x": null,
            "grid_auto_flow": null,
            "grid_area": null,
            "grid_template_columns": null,
            "flex": null,
            "_model_name": "LayoutModel",
            "justify_items": null,
            "grid_row": null,
            "max_height": null,
            "align_content": null,
            "visibility": null,
            "align_self": null,
            "height": null,
            "min_height": null,
            "padding": null,
            "grid_auto_rows": null,
            "grid_gap": null,
            "max_width": null,
            "order": null,
            "_view_module_version": "1.2.0",
            "grid_template_areas": null,
            "object_position": null,
            "object_fit": null,
            "grid_auto_columns": null,
            "margin": null,
            "display": null,
            "left": null
          }
        }
      }
    }
  },
  "cells": [
    {
      "cell_type": "markdown",
      "metadata": {
        "id": "ad6zZ2Utn1sf"
      },
      "source": [
        "# **はじめに**\n",
        "　まずは，コンテスト主催関係者の皆様この度は，SIGNATE Student Cup 2021秋を開催頂きありがとうございました。また，参加者の皆様お疲れさまでした。\n",
        "\n",
        "　PrivateLB 13位でしたが，記念に共有しようと思い，取り組んだことをまとめてみました。\n",
        "\n",
        "# **方針**\n",
        "## 特徴量\n",
        "　trip.csv以外の特徴量を単純mergeし，加えたものはdateから分かる曜日や休日(祝日)か否かという特徴量のみになります。(今思うと，使用したツール的に，祝日かどうかというのは日本での話だったのですが、Local Publicともスコアがあがったので採用していました)カテゴリ変数については、Label Encodingで統一しました。\n",
        "\n",
        "　その他主にweather.csvについてビニング処理を行った特徴量を加えましたが、PublicLBであまりスコアの向上が見られなかったので採用しませんでした(やり方が上手くないのかもしれない)。\n",
        "\n",
        "## Validation方法\n",
        "　チズチズさんやsylkさんがサンプルとして投稿してくださっていたように，訓練/検証/テストデータを1か月ずつスライドさせる方法で検証を行いました。\n",
        "\n",
        "　独自に行ったこととしては，テスト用に含まれるデータに関して，予測日以前のデータを訓練データに加えて，学習を行うようにしました。例えば，2014/9月に予測対象日が10日間あれば，10個分の訓練データ+予測日以前のテストデータが用意され，10個のモデルで予測を行うということになります。\n",
        "\n",
        "## モデル\n",
        "　各ValidationでLightGBM, CatBoost, XGBRegressorの算術平均を予測値としました。\n",
        "\n",
        "# **感想**\n",
        "　テスト用の月のデータを訓練データに追加したサブミットは，Privateのスコアでほとんど3.53より小さい値が出ていたので、結構効果があったようです。直近のデータが訓練データに入っていた方が良さそうというのは直感的にもそうかなと感じています。\n",
        "\n",
        "　trip.csvの取り扱いをどうするか悩みましたが、結局上手く使うことが出来ませんでした。各stationの使われやすさを示す様に，各date/hourごとにstart_stationやend_stationの件数を集計して特徴量に加えたところLocal CVは良くなりましたが，Publicとの乖離があったので採用しませんでした。どう使うのがいいのが知りたいです。"
      ]
    },
    {
      "cell_type": "code",
      "metadata": {
        "colab": {
          "base_uri": "https://localhost:8080/"
        },
        "id": "r1spLea2nsuW",
        "outputId": "1b9cb6a9-8c6f-476d-f72b-b26aca22d1b0"
      },
      "source": [
        "!pip3 install jpholiday\n",
        "!pip install catboost\n",
        "!pip install xgboost"
      ],
      "execution_count": 1,
      "outputs": [
        {
          "output_type": "stream",
          "name": "stdout",
          "text": [
            "Collecting jpholiday\n",
            "  Downloading jpholiday-0.1.7-py3-none-any.whl (9.8 kB)\n",
            "Installing collected packages: jpholiday\n",
            "Successfully installed jpholiday-0.1.7\n",
            "Collecting catboost\n",
            "  Downloading catboost-1.0.3-cp37-none-manylinux1_x86_64.whl (76.3 MB)\n",
            "\u001b[K     |████████████████████████████████| 76.3 MB 59 kB/s \n",
            "\u001b[?25hRequirement already satisfied: scipy in /usr/local/lib/python3.7/dist-packages (from catboost) (1.4.1)\n",
            "Requirement already satisfied: plotly in /usr/local/lib/python3.7/dist-packages (from catboost) (4.4.1)\n",
            "Requirement already satisfied: numpy>=1.16.0 in /usr/local/lib/python3.7/dist-packages (from catboost) (1.19.5)\n",
            "Requirement already satisfied: six in /usr/local/lib/python3.7/dist-packages (from catboost) (1.15.0)\n",
            "Requirement already satisfied: pandas>=0.24.0 in /usr/local/lib/python3.7/dist-packages (from catboost) (1.1.5)\n",
            "Requirement already satisfied: matplotlib in /usr/local/lib/python3.7/dist-packages (from catboost) (3.2.2)\n",
            "Requirement already satisfied: graphviz in /usr/local/lib/python3.7/dist-packages (from catboost) (0.10.1)\n",
            "Requirement already satisfied: python-dateutil>=2.7.3 in /usr/local/lib/python3.7/dist-packages (from pandas>=0.24.0->catboost) (2.8.2)\n",
            "Requirement already satisfied: pytz>=2017.2 in /usr/local/lib/python3.7/dist-packages (from pandas>=0.24.0->catboost) (2018.9)\n",
            "Requirement already satisfied: cycler>=0.10 in /usr/local/lib/python3.7/dist-packages (from matplotlib->catboost) (0.10.0)\n",
            "Requirement already satisfied: pyparsing!=2.0.4,!=2.1.2,!=2.1.6,>=2.0.1 in /usr/local/lib/python3.7/dist-packages (from matplotlib->catboost) (2.4.7)\n",
            "Requirement already satisfied: kiwisolver>=1.0.1 in /usr/local/lib/python3.7/dist-packages (from matplotlib->catboost) (1.3.2)\n",
            "Requirement already satisfied: retrying>=1.3.3 in /usr/local/lib/python3.7/dist-packages (from plotly->catboost) (1.3.3)\n",
            "Installing collected packages: catboost\n",
            "Successfully installed catboost-1.0.3\n",
            "Requirement already satisfied: xgboost in /usr/local/lib/python3.7/dist-packages (0.90)\n",
            "Requirement already satisfied: scipy in /usr/local/lib/python3.7/dist-packages (from xgboost) (1.4.1)\n",
            "Requirement already satisfied: numpy in /usr/local/lib/python3.7/dist-packages (from xgboost) (1.19.5)\n"
          ]
        }
      ]
    },
    {
      "cell_type": "code",
      "metadata": {
        "id": "a3E1C5sookSj"
      },
      "source": [
        "!cp /content/drive/MyDrive/SIGNATE/StudentCup2021autumn/station.csv .\n",
        "!cp /content/drive/MyDrive/SIGNATE/StudentCup2021autumn/status.csv .\n",
        "!cp /content/drive/MyDrive/SIGNATE/StudentCup2021autumn/weather.csv .\n",
        "!cp /content/drive/MyDrive/SIGNATE/StudentCup2021autumn/trip.csv .\n",
        "!cp /content/drive/MyDrive/SIGNATE/StudentCup2021autumn/sample_submit.csv ."
      ],
      "execution_count": 3,
      "outputs": []
    },
    {
      "cell_type": "markdown",
      "metadata": {
        "id": "TpVNyHkw9WkD"
      },
      "source": [
        "# ライブラリのImport, Seedの固定"
      ]
    },
    {
      "cell_type": "code",
      "metadata": {
        "id": "5gMEHQBsn1si"
      },
      "source": [
        "import random\n",
        "import os\n",
        "import torch\n",
        "\n",
        "import numpy as np\n",
        "import pandas as pd\n",
        "import warnings\n",
        "import pickle\n",
        "from sklearn.metrics import mean_squared_error\n",
        "\n",
        "import lightgbm as lgb\n",
        "from catboost import Pool, CatBoostRegressor\n",
        "import xgboost as xgb\n",
        "\n",
        "warnings.simplefilter('ignore')\n",
        "\n",
        "def seed_torch(seed=42):\n",
        "    # python の組み込み関数の seed を固定\n",
        "    random.seed(seed)\n",
        "    os.environ[\"PYTHONHASHSEED\"] = str(seed)\n",
        "    # numpy の seed を固定\n",
        "    np.random.seed(seed)\n",
        "    # torch の seed を固定\n",
        "    torch.manual_seed(seed)\n",
        "    torch.cuda.manual_seed(seed)\n",
        "    torch.cuda.manual_seed_all(seed)\n",
        "    # 決定論的アルゴリズムを使用する\n",
        "    torch.backends.cudnn.deterministic = True\n",
        "\n",
        "SEED = 42\n",
        "seed_torch(SEED)"
      ],
      "execution_count": 4,
      "outputs": []
    },
    {
      "cell_type": "markdown",
      "metadata": {
        "id": "ONNR1rz1n1sj"
      },
      "source": [
        "# 教師データ読み込みと前処理"
      ]
    },
    {
      "cell_type": "code",
      "metadata": {
        "id": "xLgVpQXSn1sj"
      },
      "source": [
        "weather_df = pd.read_csv(\"weather.csv\")\n",
        "weather_df[\"date\"] = pd.to_datetime(weather_df[\"date\"])\n",
        "# weather_df"
      ],
      "execution_count": 5,
      "outputs": []
    },
    {
      "cell_type": "code",
      "metadata": {
        "id": "_Egz7tB4n1sk"
      },
      "source": [
        "station_df = pd.read_csv(\"station.csv\")\n",
        "# station_df"
      ],
      "execution_count": 6,
      "outputs": []
    },
    {
      "cell_type": "code",
      "metadata": {
        "id": "mMgAS0wdZCO_"
      },
      "source": [
        "status_df = pd.read_csv(\"status.csv\")\n",
        "# status_df"
      ],
      "execution_count": 7,
      "outputs": []
    },
    {
      "cell_type": "code",
      "metadata": {
        "id": "agQT7mZLo3i4"
      },
      "source": [
        "#曜日を追加するための関数を定義\n",
        "def get_weekday_jp(dt):\n",
        "    w_list = ['月曜日', '火曜日', '水曜日', '木曜日', '金曜日', '土曜日', '日曜日']\n",
        "    return(w_list[dt.weekday()])"
      ],
      "execution_count": 8,
      "outputs": []
    },
    {
      "cell_type": "code",
      "metadata": {
        "id": "7RcXVh_Do3pX"
      },
      "source": [
        "#year, month, dayを結合してdatetime型に変換\n",
        "status_df[\"date\"] = status_df[\"year\"].astype(str) + status_df[\"month\"].astype(str).str.zfill(2) + status_df[\"day\"].astype(str).str.zfill(2)\n",
        "status_df[\"date\"] = pd.to_datetime(status_df[\"date\"])\n",
        "\n",
        "#dateから曜日情報を取得\n",
        "status_df[\"weekday\"] = status_df[\"date\"].apply(get_weekday_jp)\n",
        "# status_df"
      ],
      "execution_count": 9,
      "outputs": []
    },
    {
      "cell_type": "code",
      "metadata": {
        "id": "97kuVE90o7dF"
      },
      "source": [
        "main_df = status_df.merge(station_df, left_on=\"station_id\", right_on=\"station_id\")\n",
        "main_df = main_df.merge(weather_df, left_on=\"date\", right_on=\"date\")\n",
        "# main_df"
      ],
      "execution_count": 10,
      "outputs": []
    },
    {
      "cell_type": "code",
      "metadata": {
        "colab": {
          "base_uri": "https://localhost:8080/"
        },
        "id": "Y7zC8QNNo3vW",
        "outputId": "360aab90-fd08-4069-8343-1d8186b8299f"
      },
      "source": [
        "from sklearn.preprocessing import LabelEncoder\n",
        "le = LabelEncoder()\n",
        "\n",
        "main_df[\"weekday\"] = le.fit_transform(main_df[\"weekday\"])\n",
        "main_df[\"city\"] = le.fit_transform(main_df[\"city\"])\n",
        "main_df[\"installation_date\"] = le.fit_transform(main_df[\"installation_date\"])\n",
        "main_df[\"events\"] = le.fit_transform(main_df[\"events\"].fillna(\"NaN\"))\n",
        "\n",
        "print(main_df.columns)\n",
        "print(main_df.shape)"
      ],
      "execution_count": 11,
      "outputs": [
        {
          "output_type": "stream",
          "name": "stdout",
          "text": [
            "Index(['id', 'year', 'month', 'day', 'hour', 'station_id', 'bikes_available',\n",
            "       'predict', 'date', 'weekday', 'lat', 'long', 'dock_count', 'city',\n",
            "       'installation_date', 'max_temperature', 'mean_temperature',\n",
            "       'min_temperature', 'max_dew_point', 'mean_dew_point', 'min_dew_point',\n",
            "       'max_humidity', 'mean_humidity', 'min_humidity',\n",
            "       'max_sea_level_pressure', 'mean_sea_level_pressure',\n",
            "       'min_sea_level_pressure', 'max_visibility', 'mean_visibility',\n",
            "       'min_visibility', 'max_wind_Speed', 'mean_wind_speed', 'precipitation',\n",
            "       'cloud_cover', 'events', 'wind_dir_degrees'],\n",
            "      dtype='object')\n",
            "(1226400, 36)\n"
          ]
        }
      ]
    },
    {
      "cell_type": "code",
      "metadata": {
        "id": "ZEQ2V9zXiLAT",
        "colab": {
          "base_uri": "https://localhost:8080/",
          "height": 48,
          "referenced_widgets": [
            "ad1f34ef800e40e6ad01cb4a196a154b",
            "0ec90b20bcc3413e95715f7c07d3b175",
            "f2439f4ee8d646c4b1592774a7cb5691",
            "5d08cb23fbce43de958e8617b8b1e9ae",
            "88bd05a3006645109939475ec850a3d6",
            "2db82431f60d4899ad05c141f29cad82",
            "b8bbad5fd7bf49cf8e7c43fecca5bbb7",
            "ed9202f31a6f45e39c72ae5b36a99132",
            "ccead5d212ed4775b805ef23f4d99161",
            "982fffcf4b654192a145b2c0da29e6d4",
            "395948143a514deebacaf42251dde79e"
          ]
        },
        "outputId": "0765d17c-0a16-4338-cd41-1e873930f0ff"
      },
      "source": [
        "import datetime\n",
        "import jpholiday\n",
        "from tqdm.notebook import tqdm\n",
        "\n",
        "holiday = []\n",
        "\n",
        "for i in tqdm(main_df[\"date\"].dt.to_pydatetime()):\n",
        "  holiday_name = jpholiday.is_holiday(i)\n",
        "  if holiday_name:\n",
        "    holiday.append(1)\n",
        "  else:\n",
        "    holiday.append(0)"
      ],
      "execution_count": 12,
      "outputs": [
        {
          "output_type": "display_data",
          "data": {
            "application/vnd.jupyter.widget-view+json": {
              "model_id": "ad1f34ef800e40e6ad01cb4a196a154b",
              "version_minor": 0,
              "version_major": 2
            },
            "text/plain": [
              "  0%|          | 0/1226400 [00:00<?, ?it/s]"
            ]
          },
          "metadata": {}
        }
      ]
    },
    {
      "cell_type": "code",
      "metadata": {
        "id": "KuRQTB7flYUL"
      },
      "source": [
        "# holiday = pd.DataFrame(holiday, columns=[\"holiday\"])\n",
        "# 時間が掛かるのでDriveに保存\n",
        "holiday = pd.read_csv(\"/content/drive/MyDrive/SIGNATE/StudentCup2021autumn/holiday.csv\")\n",
        "main_df = main_df.merge(holiday, left_index=True, right_index=True)"
      ],
      "execution_count": 14,
      "outputs": []
    },
    {
      "cell_type": "code",
      "metadata": {
        "id": "3MFfzueoA96x"
      },
      "source": [
        "# main_df"
      ],
      "execution_count": 16,
      "outputs": []
    },
    {
      "cell_type": "markdown",
      "metadata": {
        "id": "3jCPl0FM-C_V"
      },
      "source": [
        "# 学習用関数の定義"
      ]
    },
    {
      "cell_type": "code",
      "metadata": {
        "id": "ZjpkymTIzDTy"
      },
      "source": [
        "from dateutil.relativedelta import relativedelta\n",
        "\n",
        "class TimeSeriesSplitGenerator:\n",
        "    def __init__(self, n_split = 12, test_day_after = \"2014-09-01\", slide = False):\n",
        "        self.test_day_after = pd.to_datetime(test_day_after)\n",
        "        self.n_split = n_split\n",
        "        self.test_month_period = 12\n",
        "        self.month = relativedelta(months = 1)\n",
        "\n",
        "        self.slide = slide\n",
        "\n",
        "    def split(self, X):\n",
        "        for m in range(self.test_month_period):\n",
        "            test_month = self.test_day_after + relativedelta(months=m)\n",
        "            test_index = (test_month <= X.date) & (X.date < test_month + self.month)\n",
        "            valid_index = (test_month - self.month <= X.date) & (X.date < test_month)\n",
        "            train_index = (X.date < test_month - self.month)\n",
        "            if self.slide:\n",
        "                train_index = train_index &(\n",
        "                    test_month - self.month - relativedelta(months =12) <= X.date\n",
        "                )\n",
        "            yield train_index, valid_index, test_index"
      ],
      "execution_count": 17,
      "outputs": []
    },
    {
      "cell_type": "code",
      "metadata": {
        "id": "Kpohw91L7tcc"
      },
      "source": [
        "def lightgbm(X_train, Y_train, X_valid, Y_valid, X_test):\n",
        "  bst_params = {\n",
        "      \"boosting_type\": \"gbdt\",\n",
        "      \"metric\": \"rmse\",\n",
        "      \"objective\": \"regression\",\n",
        "      \"n_jobs\": -1,\n",
        "      \"seed\": SEED,\n",
        "      'random_state': SEED,\n",
        "      \"learning_rate\": 0.01,\n",
        "      \"bagging_fraction\": 0.75,\n",
        "      \"bagging_freq\": 10,\n",
        "      \"colsample_bytree\": 0.75,\n",
        "      \"num_boost_round\": 10000,\n",
        "      \"early_stopping_rounds\": 10,\n",
        "      \"verbose_eval\": 1000,\n",
        "  }\n",
        "\n",
        "  lgb_train = lgb.Dataset(X_train, Y_train)\n",
        "  lgb_valid = lgb.Dataset(X_valid, Y_valid)\n",
        "  \n",
        "  model = lgb.train(bst_params, lgb_train,\n",
        "                    valid_names=[\"train\", \"valid\"], valid_sets=[lgb_train, lgb_valid],\n",
        "                    verbose_eval=1000)\n",
        "\n",
        "  # 検証データに対する予測値を求める\n",
        "  va_pred = model.predict(X_valid, num_iteration=model.best_iteration)\n",
        "\n",
        "  #テストデータに対する予測値を求める\n",
        "  te_pred = np.array(model.predict(X_test, num_iteration=model.best_iteration))\n",
        "\n",
        "  return va_pred, te_pred, model\n",
        "\n",
        "\n",
        "def catboost(X_train, Y_train, X_valid, Y_valid, X_test):\n",
        "  # objectの列番号を取得\n",
        "  categorical_features_indices = np.where(X_train.dtypes==np.object)[0]\n",
        "  lgb_train = Pool(X_train, Y_train, cat_features=categorical_features_indices)\n",
        "  lgb_valid = Pool(X_valid, Y_valid, cat_features=categorical_features_indices)\n",
        "  model = CatBoostRegressor(eval_metric='RMSE',\n",
        "                            loss_function='RMSE',\n",
        "                            num_boost_round=10000,\n",
        "                            logging_level='Silent',\n",
        "                            random_seed=SEED)\n",
        "  model.fit(lgb_train, \n",
        "            eval_set=lgb_valid,\n",
        "            early_stopping_rounds=10,\n",
        "            verbose=True,\n",
        "            use_best_model=True)\n",
        "\n",
        "  # 検証データに対する予測値を求める\n",
        "  va_pred = model.predict(X_valid)\n",
        "\n",
        "  mse = mean_squared_error(Y_valid, va_pred)\n",
        "  rmse = np.sqrt(mse) # RSME = √MSEの算出\n",
        "  eval_metric = rmse\n",
        "\n",
        "  print(f\"eval's rmse: {eval_metric}\")\n",
        "\n",
        "  #テストデータに対する予測値を求める\n",
        "  te_pred = np.array(model.predict(X_test))\n",
        "\n",
        "  return va_pred, te_pred, model\n",
        "\n",
        "def xgboost(X_train, Y_train, X_valid, Y_valid, X_test):\n",
        "\n",
        "  xgb_params = {\n",
        "      'objective': 'reg:linear',\n",
        "      'eval_metric': 'rmse',\n",
        "      # \"verbosity\": 0,\n",
        "      \"seed\": SEED,\n",
        "      \"eta\": 0.01,\n",
        "      \"num_boost_round\": 10000,\n",
        "      # \"early_stopping_rounds\": 10,\n",
        "      # \"verbose_eval\": 100,\n",
        "  }\n",
        "\n",
        "  lgb_train = xgb.DMatrix(X_train, label=Y_train)\n",
        "  lgb_valid = xgb.DMatrix(X_valid, label=Y_valid)\n",
        "  lgb_test = xgb.DMatrix(X_test)\n",
        "  evals = [(lgb_train, 'train'), (lgb_valid, 'eval')]\n",
        "  evals_result = {}\n",
        "\n",
        "  model = xgb.train(xgb_params,\n",
        "                    lgb_train,\n",
        "                    evals=evals,\n",
        "                    evals_result=evals_result,\n",
        "                    num_boost_round=10000,\n",
        "                    early_stopping_rounds=10,\n",
        "                    verbose_eval=1000,\n",
        "                  )\n",
        "  \n",
        "  # 検証データに対する予測値を求める\n",
        "  va_pred = model.predict(lgb_valid)\n",
        "\n",
        "  #テストデータに対する予測値を求める\n",
        "  te_pred = list(model.predict(lgb_test))\n",
        "\n",
        "  return va_pred, te_pred, model"
      ],
      "execution_count": 23,
      "outputs": []
    },
    {
      "cell_type": "markdown",
      "metadata": {
        "id": "mwS2HzbFn1sp"
      },
      "source": [
        "# 学習と予測\n",
        "\n",
        "最初に学習済みモデル保存用にフォルダを作成しておく"
      ]
    },
    {
      "cell_type": "code",
      "metadata": {
        "id": "dVilstt3zMqX"
      },
      "source": [
        "scores = []\n",
        "ids = []\n",
        "submission = []\n",
        "\n",
        "OUTPUT = \"/content/drive/MyDrive/SIGNATE/StudentCup2021autumn/20211106\"\n",
        "\n",
        "for i, data in enumerate(TimeSeriesSplitGenerator(slide = True).split(main_df)):\n",
        "    train_index, valid_index, test_index = data\n",
        "\n",
        "    print(\"-------------------------------------------\")\n",
        "    print(\"train:\", main_df[train_index].date.min(), main_df[train_index].date.max())\n",
        "    print(\"valid:\", main_df[valid_index].date.min(), main_df[valid_index].date.max())\n",
        "    print(\"test: \", main_df[test_index].date.min(), main_df[test_index].date.max())\n",
        "    print(f'Fold : {i}')\n",
        "\n",
        "    train = main_df[train_index].dropna(subset=[\"bikes_available\"])\n",
        "    valid = main_df[valid_index].dropna(subset=[\"bikes_available\"])\n",
        "\n",
        "    test = main_df[test_index]\n",
        "    test0 = test[test[\"predict\"] == 0]\n",
        "    test1 = test[test[\"predict\"] == 1]\n",
        "    \n",
        "    rmses = []\n",
        "    # 予測対象日について、一日ずつモデルを作成していく\n",
        "    for start_date in test1[\"date\"].unique():\n",
        "      train_from_test = test0[test0[\"date\"] < start_date].dropna(subset=[\"bikes_available\"])\n",
        "      train_add = pd.concat([train, train_from_test], axis=0)\n",
        "\n",
        "      X_train, Y_train = train_add.drop(columns=[\"id\", \"predict\", \"bikes_available\", \"date\"]), train_add[\"bikes_available\"]\n",
        "      X_valid, Y_valid = valid.drop(columns=[\"id\", \"predict\", \"bikes_available\", \"date\"]), valid[\"bikes_available\"]\n",
        "      ids += list(test1[test1[\"date\"] == start_date][\"id\"])\n",
        "      X_test, _ = test1[test1[\"date\"] == start_date].drop(columns=[\"id\", \"predict\", \"bikes_available\", \"date\"]), test[\"bikes_available\"]\n",
        "      \n",
        "      va_pred1, te_pred1, model = lightgbm(X_train, Y_train, X_valid, Y_valid, X_test)\n",
        "      pickle.dump(model, open(f\"{OUTPUT}/lgbm/{start_date}.pkl\", 'wb'))\n",
        "      va_pred2, te_pred2, model = catboost(X_train, Y_train, X_valid, Y_valid, X_test)\n",
        "      pickle.dump(model, open(f\"{OUTPUT}/cat/{start_date}.pkl\", 'wb'))\n",
        "      va_pred3, te_pred3, model = xgboost(X_train, Y_train, X_valid, Y_valid, X_test)\n",
        "      pickle.dump(model, open(f\"{OUTPUT}/xgb/{start_date}.pkl\", 'wb'))\n",
        "      \n",
        "      va_pred = (va_pred1 + va_pred2 + va_pred3) / 3\n",
        "      te_pred = (te_pred1 + te_pred2 + te_pred3) / 3\n",
        "\n",
        "      # RSME = √MSEの算出\n",
        "      mse = mean_squared_error(Y_valid, va_pred)\n",
        "      rmse = np.sqrt(mse)\n",
        "\n",
        "      rmses.append(rmse)\n",
        "\n",
        "      #テストデータに対する予測値を求める\n",
        "      submission += list(te_pred)\n",
        "      print('')\n",
        "      print(f\"Fold: {i} {start_date} RMSE:{rmse}\")\n",
        "      print(\"\")\n",
        "\n",
        "    # フォールド毎の検証時のスコアを格納\n",
        "    scores.append(np.mean(rmses))\n",
        "    \n",
        "    print('')\n",
        "    print('################################')\n",
        "    print(f\"Fold: {i} RMSE:{np.mean(rmses)}\")\n",
        "    print(\"\")\n",
        "  \n",
        "print(f\"CV: {np.mean(scores)}\")\n",
        "\n",
        "# CV: 3.4555098"
      ],
      "execution_count": null,
      "outputs": []
    },
    {
      "cell_type": "code",
      "metadata": {
        "id": "Z-3gVZ3pUFGV"
      },
      "source": [
        "sub = pd.Series(submission)\n",
        "sub.index = ids\n",
        "sub.to_csv(f\"{OUTPUT}/submmission_ensenble.csv\", header=False)"
      ],
      "execution_count": null,
      "outputs": []
    },
    {
      "cell_type": "markdown",
      "metadata": {
        "id": "jJVWUaVDz1Jd"
      },
      "source": [
        "改めて関係者の皆様・参加者の皆様，ありがとうございました。とても楽しく取り組むことが出来ました。"
      ]
    }
  ]
}